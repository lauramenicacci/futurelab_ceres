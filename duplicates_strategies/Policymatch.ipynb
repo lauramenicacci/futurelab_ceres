{
 "cells": [
  {
   "cell_type": "code",
   "execution_count": 14,
   "id": "d2bc6bb5-fb08-42c9-99fd-27412e570e9e",
   "metadata": {},
   "outputs": [],
   "source": [
    "import pandas as pd\n",
    "import numpy as np\n",
    "import sys\n",
    "from tqdm import tqdm"
   ]
  },
  {
   "cell_type": "code",
   "execution_count": 16,
   "id": "91fee980-f55c-4e61-b771-cc8c11fa7c57",
   "metadata": {},
   "outputs": [],
   "source": [
    "#disabling python warnings\n",
    "if not sys.warnoptions:\n",
    "    import warnings\n",
    "    warnings.simplefilter(\"ignore\")"
   ]
  },
  {
   "cell_type": "code",
   "execution_count": 15,
   "id": "13fb4588-c00e-40a1-8143-34370448dc7f",
   "metadata": {},
   "outputs": [],
   "source": [
    "df = pd.read_csv('ceres_secondversion.csv')"
   ]
  },
  {
   "cell_type": "code",
   "execution_count": 20,
   "id": "bb104284-ff0f-4d20-a51c-84a395aeb248",
   "metadata": {
    "tags": []
   },
   "outputs": [
    {
     "name": "stderr",
     "output_type": "stream",
     "text": [
      "100%|██████████| 5670/5670 [27:16<00:00,  3.46it/s]     \n"
     ]
    }
   ],
   "source": [
    "\n",
    "duplicates = pd.DataFrame()\n",
    "\n",
    "for i in tqdm(range(len(df))):  \n",
    "    for j in np.arange(i+1,len(df),1):\n",
    "        if df.iloc[i,5] == df.iloc[j,5] and  df.iloc[i,1] == df.iloc[j,1]:\n",
    "            duplicates = duplicates.append(df.iloc[i,:])"
   ]
  },
  {
   "cell_type": "code",
   "execution_count": 21,
   "id": "bf47b2bf-07ad-4836-bc61-1f7a4ae973ac",
   "metadata": {},
   "outputs": [
    {
     "data": {
      "text/plain": [
       "388"
      ]
     },
     "execution_count": 21,
     "metadata": {},
     "output_type": "execute_result"
    }
   ],
   "source": [
    "len(duplicates)"
   ]
  },
  {
   "cell_type": "code",
   "execution_count": 23,
   "id": "5241ea24-ec07-49ba-9e96-c660ce02fdb8",
   "metadata": {},
   "outputs": [],
   "source": [
    "duplicates.to_csv('duplicates.csv',index = False)"
   ]
  },
  {
   "cell_type": "code",
   "execution_count": null,
   "id": "a41ba2bc-2746-4ca8-8ad9-894ea9f647e7",
   "metadata": {},
   "outputs": [],
   "source": []
  }
 ],
 "metadata": {
  "kernelspec": {
   "display_name": "Python 3 (ipykernel)",
   "language": "python",
   "name": "python3"
  },
  "language_info": {
   "codemirror_mode": {
    "name": "ipython",
    "version": 3
   },
   "file_extension": ".py",
   "mimetype": "text/x-python",
   "name": "python",
   "nbconvert_exporter": "python",
   "pygments_lexer": "ipython3",
   "version": "3.10.9"
  }
 },
 "nbformat": 4,
 "nbformat_minor": 5
}
