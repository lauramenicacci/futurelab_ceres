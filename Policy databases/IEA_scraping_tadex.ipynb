{
 "cells": [
  {
   "cell_type": "code",
   "execution_count": null,
   "id": "4a19c1d0-916a-4c35-a6f2-8828727cb851",
   "metadata": {},
   "outputs": [],
   "source": [
    "import requests\n",
    "from bs4 import BeautifulSoup\n",
    "r = requests.get(\"https://www.iea.org/policies\")\n",
    "soup = BeautifulSoup(r.content)\n",
    "links = soup.select(\"a.m-policy-listing-item__link\")\n",
    "links"
   ]
  },
  {
   "cell_type": "code",
   "execution_count": 7,
   "id": "b69d45e9-3327-4dda-85be-e3d94aa20a00",
   "metadata": {},
   "outputs": [
    {
     "data": {
      "text/html": [
       "<div>\n",
       "<style scoped>\n",
       "    .dataframe tbody tr th:only-of-type {\n",
       "        vertical-align: middle;\n",
       "    }\n",
       "\n",
       "    .dataframe tbody tr th {\n",
       "        vertical-align: top;\n",
       "    }\n",
       "\n",
       "    .dataframe thead th {\n",
       "        text-align: right;\n",
       "    }\n",
       "</style>\n",
       "<table border=\"1\" class=\"dataframe\">\n",
       "  <thead>\n",
       "    <tr style=\"text-align: right;\">\n",
       "      <th></th>\n",
       "      <th>text</th>\n",
       "    </tr>\n",
       "  </thead>\n",
       "  <tbody>\n",
       "    <tr>\n",
       "      <th>0</th>\n",
       "      <td>Japan sets and periodically updates fuel econo...</td>\n",
       "    </tr>\n",
       "  </tbody>\n",
       "</table>\n",
       "</div>"
      ],
      "text/plain": [
       "                                                text\n",
       "0  Japan sets and periodically updates fuel econo..."
      ]
     },
     "execution_count": 7,
     "metadata": {},
     "output_type": "execute_result"
    }
   ],
   "source": [
    "import pandas as pd\n",
    "data = []\n",
    "for link in links:\n",
    "    r = requests.get(\"https://iea.org\" + link[\"href\"])\n",
    "    link_soup = BeautifulSoup(r.content)\n",
    "    data.append({\"text\": link_soup.select(\"div.m-block p\")[0].text})\n",
    "    break\n",
    "df = pd.DataFrame.from_dict(data)\n",
    "df"
   ]
  },
  {
   "cell_type": "markdown",
   "id": "63d94646-f9a0-4355-b604-70823a46f4d6",
   "metadata": {},
   "source": [
    "Country, Year, Status, Jurisdiction, Text, Link, Topics, Policy types, Sectors, Technologies"
   ]
  },
  {
   "cell_type": "code",
   "execution_count": 8,
   "id": "83db00d3-855e-41ec-a2c3-1f27e6dc8c2d",
   "metadata": {},
   "outputs": [
    {
     "data": {
      "text/plain": [
       "<a class=\"m-policy-listing-item__link\" href=\"/policies/11663-fuel-economy-standards-on-light-duty-vehicles\">Fuel Economy Standards on Light-Duty Vehicles\n",
       "                                                    </a>"
      ]
     },
     "execution_count": 8,
     "metadata": {},
     "output_type": "execute_result"
    }
   ],
   "source": [
    "df = pd.dataFrame() # Let's initialise a null object which we will our dataframe to after each link\n",
    "for (link in link_destinations){\n",
    "  # First we'll initialise an empty list to store our values\n",
    "  l <- list()\n",
    "  \n",
    "  # Then we create our link and parse it\n",
    "  absolute_link <- paste0(\"https://iea.org\", link)\n",
    "  print(\"processing link\")\n",
    "  print(absolute_link)\n",
    "  link_html <- read_html(absolute_link)\n",
    "  \n",
    "  # Now we get our text from the paragraph as before\n",
    "  p <- link_html %>% html_element(\"div.m-block__content p\")\n",
    "  l$text <- html_text2(p) # and add it to our list of attributes\n",
    "  \n",
    "  # Now we process the sidebar\n",
    "  keys <- link_html %>% html_elements(\"span.o-policy-aside-item__title\") %>% html_text()\n",
    "  values <- link_html %>% html_elements(\"span.o-policy-aside-item__value\") %>% html_text()\n",
    "  for (i in 1:length(keys)) { # Do a loop were we increase the value of i from 1 to the length of our keys\n",
    "    key = keys[i] # Get the ith key in our vector of keys\n",
    "    value = values[i] # Get the ith value in our vector of values\n",
    "    l[key] = value # assign the value to the attribute that is named key\n",
    "  }\n",
    "  df <- bind_rows(df, as.data.frame(l))\n",
    "  }\n",
    "\n",
    "df"
   ]
  }
 ],
 "metadata": {
  "kernelspec": {
   "display_name": "Python 3 (ipykernel)",
   "language": "python",
   "name": "python3"
  },
  "language_info": {
   "codemirror_mode": {
    "name": "ipython",
    "version": 3
   },
   "file_extension": ".py",
   "mimetype": "text/x-python",
   "name": "python",
   "nbconvert_exporter": "python",
   "pygments_lexer": "ipython3",
   "version": "3.10.8"
  }
 },
 "nbformat": 4,
 "nbformat_minor": 5
}
