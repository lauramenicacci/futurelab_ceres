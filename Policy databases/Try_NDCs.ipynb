{
 "cells": [
  {
   "cell_type": "markdown",
   "id": "34bde0a0",
   "metadata": {
    "tags": []
   },
   "source": [
    "###First try"
   ]
  },
  {
   "cell_type": "code",
   "execution_count": 1,
   "id": "ba04124f",
   "metadata": {},
   "outputs": [],
   "source": [
    "import sys\n",
    "import os\n",
    "import numpy as np\n",
    "import pandas as pd \n",
    "import requests\n",
    "\n",
    "from bs4 import BeautifulSoup\n",
    "from time import sleep "
   ]
  },
  {
   "cell_type": "code",
   "execution_count": 2,
   "id": "901a433e",
   "metadata": {},
   "outputs": [],
   "source": [
    "# Downloading contents of the web page\n",
    "url = \"https://unfccc.int/NC7\"\n",
    "data = requests.get(url)\n",
    "if data.status_code != 200:\n",
    "        print('Error loading website')\n",
    "else:\n",
    "    soup = BeautifulSoup(data.text, 'html.parser')"
   ]
  },
  {
   "cell_type": "code",
   "execution_count": 4,
   "id": "5cfb9b08-f233-4363-86d4-f938bbfccc21",
   "metadata": {},
   "outputs": [
    {
     "name": "stdout",
     "output_type": "stream",
     "text": [
      "<html>\n",
      "<head>\n",
      "<meta content=\"noindex,nofollow\" name=\"robots\"/>\n",
      "<script src=\"/_Incapsula_Resource?SWJIYLWA=5074a744e2e3d891814e9a2dace20bd4,719d34d31c8e3a6e6fffd425f7e032f3\">\n",
      "</script>\n",
      "<body>\n",
      "</body></head></html>\n",
      "\n"
     ]
    }
   ],
   "source": [
    "print((soup))"
   ]
  },
  {
   "cell_type": "code",
   "execution_count": 5,
   "id": "d9cb6415",
   "metadata": {},
   "outputs": [],
   "source": [
    "link = soup.find(attr={\"class\":\"\"})"
   ]
  },
  {
   "cell_type": "code",
   "execution_count": 6,
   "id": "f9ae3b4d-71e2-4012-b7eb-680e84cb93cf",
   "metadata": {},
   "outputs": [
    {
     "name": "stdout",
     "output_type": "stream",
     "text": [
      "None\n"
     ]
    }
   ],
   "source": [
    "print(elements)"
   ]
  },
  {
   "cell_type": "markdown",
   "id": "7bb02a50-2c45-4458-9c66-65d6ef5adf6a",
   "metadata": {},
   "source": [
    "scrape links by country & put in csv: 'country' 'link' and then add it to the dataset "
   ]
  },
  {
   "cell_type": "code",
   "execution_count": 18,
   "id": "de029b89",
   "metadata": {},
   "outputs": [
    {
     "name": "stdout",
     "output_type": "stream",
     "text": [
      "[]\n"
     ]
    }
   ],
   "source": [
    "# Creating list with all tables\n",
    "tables = soup.find_all('table')\n",
    "\n",
    "print(tables)"
   ]
  },
  {
   "cell_type": "code",
   "execution_count": null,
   "id": "4c71ce70",
   "metadata": {},
   "outputs": [],
   "source": [
    "with open(\"index.html\") as fp:\n",
    "    soup = BeautifulSoup(fp)\n",
    "\n",
    "soup = BeautifulSoup(\"<html>data</html>\")"
   ]
  },
  {
   "cell_type": "code",
   "execution_count": 6,
   "id": "23a33022",
   "metadata": {},
   "outputs": [],
   "source": [
    "def get_table(round, url=url):\n",
    "    round_url = f'{url}/{round}'\n",
    "    page = requests.get(round_url)\n",
    "    soup = BeautifulSoup(page.text, 'html.parser')\n",
    "    \n",
    "    rows = []\n",
    "    for child in soup.find_all('table')[4].children:\n",
    "        row = []\n",
    "        for td in child:\n",
    "            try:\n",
    "                row.append(td.text.replace('\\n', ''))\n",
    "            except:\n",
    "                continue\n",
    "        if len(row) > 0:\n",
    "            rows.append(row)\n",
    "\n",
    "    df = pd.DataFrame(rows[1:], columns=rows[0])\n",
    "    return df\n",
    "    \n",
    "\n",
    "for round in range(1, 39):\n",
    "    table = get_table(round)\n",
    "    table.to_csv(f'PL_table_matchweek_{round}.csv', index=False)\n",
    "    sleep(np.random.randint(1, 10))"
   ]
  },
  {
   "cell_type": "code",
   "execution_count": 16,
   "id": "d74c0f34",
   "metadata": {},
   "outputs": [],
   "source": [
    "#with open(\"index.html\") as fp:\n",
    "#    soup = BeautifulSoup(fp)\n",
    "#\n",
    "#soup = BeautifulSoup(\"<html>data</html>\")"
   ]
  },
  {
   "cell_type": "code",
   "execution_count": null,
   "id": "1c3465a5",
   "metadata": {},
   "outputs": [],
   "source": []
  }
 ],
 "metadata": {
  "kernelspec": {
   "display_name": "Python 3 (ipykernel)",
   "language": "python",
   "name": "python3"
  },
  "language_info": {
   "codemirror_mode": {
    "name": "ipython",
    "version": 3
   },
   "file_extension": ".py",
   "mimetype": "text/x-python",
   "name": "python",
   "nbconvert_exporter": "python",
   "pygments_lexer": "ipython3",
   "version": "3.10.8"
  }
 },
 "nbformat": 4,
 "nbformat_minor": 5
}
